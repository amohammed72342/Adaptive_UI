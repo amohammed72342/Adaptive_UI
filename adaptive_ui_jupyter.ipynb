
{
 "cells": [
  {
   "cell_type": "markdown",
   "metadata": {},
   "source": [
    "# Adaptive UI Using AI in Jupyter Notebook\n",
    "This notebook demonstrates an adaptive user interface using ipywidgets and basic AI logic.\n",
    "The interface adapts based on user mood input."
   ]
  },
  {
   "cell_type": "code",
   "execution_count": null,
   "metadata": {},
   "outputs": [],
   "source": [
    "import ipywidgets as widgets\n",
    "from IPython.display import display, clear_output\n",
    "\n",
    "# Dictionary to track user mood frequency\n",
    "mood_count = {"Happy": 0, "Sad": 0, "Anxious": 0, "Neutral": 0}\n",
    "\n",
    "# Dropdown widget for mood selection\n",
    "mood_selector = widgets.Dropdown(\n",
    "    options=["Happy", "Sad", "Anxious", "Neutral"],\n",
    "    description="Your Mood:",\n",
    "    style={'description_width': 'initial'}\n",
    ")\n",
    "\n",
    "output = widgets.Output()\n",
    "\n",
    "# Function to adapt UI based on mood input\n",
    "def adapt_ui(change):\n",
    "    clear_output()\n",
    "    mood = change['new']\n",
    "    mood_count[mood] += 1\n",
    "    print(f"Mood detected: {mood}")\n",
    "    if mood == "Sad" and mood_count[mood] > 2:\n",
    "        print("It seems you're feeling down. Consider taking a short walk or listening to calming music.")\n",
    "    elif mood == "Happy":\n",
    "        print("That's great! Keep spreading positivity.")\n",
    "    elif mood == "Anxious":\n",
    "        print("Try deep breathing exercises. You got this!")\n",
    "    else:\n",
    "        print("Thank you for sharing. Stay balanced.")\n",
    "\n",
    "display(mood_selector, output)\n",
    "mood_selector.observe(adapt_ui, names='value')"
   ]
  }
 ],
 "metadata": {
  "kernelspec": {
   "display_name": "Python 3",
   "language": "python",
   "name": "python3"
  },
  "language_info": {
   "name": "python",
   "version": ""
  }
 },
 "nbformat": 4,
 "nbformat_minor": 2
}
